{
 "cells": [
  {
   "cell_type": "code",
   "execution_count": 1,
   "metadata": {
    "slideshow": {
     "slide_type": "skip"
    }
   },
   "outputs": [],
   "source": [
    "%load_ext autoreload\n",
    "%autoreload 2"
   ]
  },
  {
   "cell_type": "markdown",
   "metadata": {
    "slideshow": {
     "slide_type": "subslide"
    }
   },
   "source": [
    "## Esercizio: BMW-i8\n",
    "\n",
    "**Una BMW i8 accelera a tavoletta su un rettilineo**\n",
    "\n",
    "<center>\n",
    "<img src=\"assets/bmw-i8.png\" width=30%/>\n",
    "</center>\n",
    "\n",
    "Supponiamo che il motore eroghi una forza costante $F$\n",
    "\n",
    "* L'auto ha un motore elettrico, così l'assunzione non è così irrealistica\n",
    "\n",
    "Alla direzione del moto si oppone la forza di trascinamento:\n",
    "\n",
    "$$\n",
    "F_t = -\\frac{1}{2} \\rho C_D A v |v|\n",
    "$$\n",
    "\n",
    "* $\\rho$ è la densità dell'aria, $v$ è la velocità\n",
    "* $A$ è la superficie della sezione dell'auto\n",
    "* $C_D$ è un coefficiente di trascinamento\n",
    "\n",
    "**Quindi il sistema è definito dall'ODE:**\n",
    "\n",
    "$$\n",
    "\\ddot{x} = \\frac{1}{m} (F + F_t)\n",
    "$$\n",
    "\n",
    "Che può essere riscritta come:\n",
    "\n",
    "$$\n",
    "\\left(\\begin{array}{c}\n",
    "\\dot{x} \\\\\n",
    "\\dot{v}\n",
    "\\end{array}\\right)\n",
    "=\n",
    "\\left(\\begin{array}{c}\n",
    "v \\\\\n",
    "\\frac{1}{m} (F + F_t)\n",
    "\\end{array}\\right)\n",
    "$$\n",
    "\n",
    "* Dove $m$ è la massa dell'auto"
   ]
  },
  {
   "cell_type": "markdown",
   "metadata": {},
   "source": [
    "## Esercizio 1\n",
    "\n",
    "**Nel modulo `sol.bmw` definire la classe**\n",
    "\n",
    "```python\n",
    "class Dstate:\n",
    "    def __init__(self, Cd):\n",
    "        ...\n",
    "    \n",
    "    def __call__(self, X, t):\n",
    "        # Parametri fissi\n",
    "        rho = 1.25 # Densita' dell'aria\n",
    "        A = 2.5 * 1.2 # Superficie della seziojne\n",
    "        m = 1539 # Massa dell'auto\n",
    "        F = 10000 # Forza di accelerazione\n",
    "        ...\n",
    "\n",
    "```\n",
    "\n",
    "* Il metodo `__call__` deve calcolare la funzione che definisce l'ODE\n",
    "* Diversi parametri (come indicato) saranno considerati fissi nell'esercizio\n",
    "* Il metodo deve restituire un array `numpy` con le due componenti della derivata\n",
    "\n",
    "\n",
    "**Nel modulo `sol.bmw` si definisca quindi la funzione:**\n",
    "\n",
    "```python\n",
    "def simulate(Cd):\n",
    "    x0 = [0, 0]\n",
    "    t = np.linspace(0, 60, 60000)\n",
    "    ...\n",
    "```\n",
    "\n",
    "* La funzione deve risolvere un problema ai valori iniziali\n",
    "* ...Con lo stato iniziale ed il vettorei dei tempi indicati\n",
    "* Il metodo deve restituire\n",
    "  - La matrice con gli stati visitati\n",
    "  - Il vettore dei tempi visitati\n",
    "\n",
    "Si collaudi la funzione per $C_d = 0.82$. Per verificare la correttezza dei risultati, può essere utile disegnare l'andamento dello stato usando la funzione `plot_state_evolution` nel modulo `base.util` incluso nel tema d'esame.\n"
   ]
  },
  {
   "cell_type": "code",
   "execution_count": 13,
   "metadata": {},
   "outputs": [
    {
     "data": {
      "image/png": "[encoded data removed]",
      "text/plain": [
       "<Figure size 1440x360 with 1 Axes>"
      ]
     },
     "metadata": {
      "needs_background": "light"
     },
     "output_type": "display_data"
    }
   ],
   "source": [
    "from sol2 import bmw\n",
    "from base import util\n",
    "\n",
    "Cd = 0.82\n",
    "\n",
    "f = bmw.Dstate(Cd)\n",
    "f(X=[0, 0], t=0)\n",
    "\n",
    "X, t = bmw.simulate(Cd)\n",
    "\n",
    "util.plot_state_evolution(X, t, ylabels=['x', 'v'], figsize=(20, 5))"
   ]
  },
  {
   "cell_type": "markdown",
   "metadata": {},
   "source": [
    "## Esercizio 2\n",
    "\n",
    "**La velocità terminale dell'auto può essere determinata individuando le condizioni per l'annullamento dell'accelerazione, i.e.:**\n",
    "\n",
    "$$\n",
    "\\dot{v} = \\frac{1}{m} (F + F_t) = 0\n",
    "$$\n",
    "\n",
    "Da cui si ottiene facilmente l'equazione non lineare:\n",
    "\n",
    "$$\n",
    "F(v) = F + F_t(v) = 0\n",
    "$$\n",
    "\n",
    "**Nel modulo `sol.bmw` si definisca la funzione:**\n",
    "\n",
    "```python\n",
    "def find_terminal_speed_aux(v):\n",
    "    # Parametri fissi\n",
    "    rho = 1.25 # Densita' dell'aria\n",
    "    A = 2.5 * 1.2 # Superficie della seziojne\n",
    "    m = 1539 # Massa dell'auto\n",
    "    F = 10000 # Forza di accelerazione\n",
    "    Cd = 0.82 # Coefficiente aerodinamico\n",
    "    ...\n",
    "```\n",
    "\n",
    "* La funzione deve calcolare e restituire il valore di $F(v)$.\n",
    "\n",
    "**Nel modulo `sol.bmw` si definisca la funzione:**\n",
    "\n",
    "```python\n",
    "def find_terminal_speed():\n",
    "    a, b = 0, 100\n",
    "    ...\n",
    "```\n",
    "\n",
    "* La funzione deve utilizzare il metodo `scipy.optimize.brentq` per determinare la velocità terminale\n",
    "* La funzione deve restituire il valore della velocità terminale"
   ]
  },
  {
   "cell_type": "code",
   "execution_count": null,
   "metadata": {},
   "outputs": [],
   "source": []
  },
  {
   "cell_type": "markdown",
   "metadata": {},
   "source": [
    "## Esercizio 3\n",
    "\n",
    "**Nel modulo `sol.bmw` si definisca la funzione**\n",
    "\n",
    "```python\n",
    "def speed_in_5_seconds(Cd):\n",
    "    ...\n",
    "```\n",
    "\n",
    "* Che, dato un valore per $C_d$ calcoli la velocità raggiunta in 5 secondi\n",
    "* La funzione deve restituire tale valore di velocità\n",
    "\n",
    "**Sia $f(Cd)$ la funzione appena definita**\n",
    "\n",
    "È possibile determinare per quale valore di $C_d$ la velocità raggiunta in $5$ secondi sia pari ad un valore desiderato $v^*$, risolvendo l'equazione non lineare:\n",
    "\n",
    "$$\n",
    "F_2(C_d) = f(C_d) - v^* = 0\n",
    "$$\n",
    "\n",
    "**Nel modulo `sol.bmw` si definisca la funzione:**\n",
    "\n",
    "```python\n",
    "def find_Cd_aux(Cd):\n",
    "    ...\n",
    "```\n",
    "\n",
    "* La funzione deve calcolare e restituire il valore di $F_2(C_d)$ per $v^* = 31 m/s$\n",
    "\n",
    "**Nel modulo `sol.bmw` si definisca la funzione**\n",
    "\n",
    "```python\n",
    "def find_Cd():\n",
    "    a, b = 0.2, 1.0\n",
    "```\n",
    "\n",
    "* La funzione deve utilizzare il metodo `scipy.optimize.brentq` per determinare il valore di $C_d$ che permette all'automobile di raggiungere in $5$ secondi la velocità di $v^* = 31 m/s$\n",
    "* La funzione deve restituire il valore di $C_d$ così calcolato"
   ]
  },
  {
   "cell_type": "code",
   "execution_count": null,
   "metadata": {},
   "outputs": [],
   "source": []
  }
 ],
 "metadata": {
  "kernelspec": {
   "display_name": "Python 3 (ipykernel)",
   "language": "python",
   "name": "python3"
  },
  "language_info": {
   "codemirror_mode": {
    "name": "ipython",
    "version": 3
   },
   "file_extension": ".py",
   "mimetype": "text/x-python",
   "name": "python",
   "nbconvert_exporter": "python",
   "pygments_lexer": "ipython3",
   "version": "3.9.5"
  },
  "rise": {
   "center": false,
   "enable_chalkboard": true,
   "transition": "fade"
  }
 },
 "nbformat": 4,
 "nbformat_minor": 4
}
